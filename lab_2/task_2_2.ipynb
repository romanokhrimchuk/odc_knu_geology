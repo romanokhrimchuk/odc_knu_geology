{
 "cells": [
  {
   "cell_type": "code",
   "execution_count": null,
   "id": "f909bf03-4c35-4d04-8b4f-4295da6035ee",
   "metadata": {},
   "outputs": [],
   "source": [
    "import warnings\n",
    "warnings.filterwarnings('ignore')\n",
    "\n",
    "import yaml\n",
    "import uuid\n",
    "import rasterio\n",
    "import numpy as np\n",
    "import pandas as pd\n",
    "from pathlib import Path\n"
   ]
  },
  {
   "cell_type": "code",
   "execution_count": 25,
   "id": "e7589318-7510-466e-99ea-11aeee4d7ccb",
   "metadata": {},
   "outputs": [],
   "source": [
    "# ініціалізувати шляхи\n",
    "path_to_tiff = './odc/GTOPO_30AS/data/gt30w180n90.tif'\n",
    "path_save_dataset = './odc/GTOPO_30AS/metadata'\n",
    "path_product_definition = './odc/GTOPO_30AS/metadata/product_definition/GTOPO_30AS_product_definition.yaml' \n"
   ]
  },
  {
   "cell_type": "code",
   "execution_count": 10,
   "id": "7098369e-171b-4129-8c76-2bff9246f505",
   "metadata": {},
   "outputs": [],
   "source": [
    "#TODO Додати функцію read_yaml, за допомогою якої можна зчитати yaml файл із метаданими продукта\n"
   ]
  },
  {
   "cell_type": "code",
   "execution_count": 11,
   "id": "19517f62-8a29-4b15-aec4-35adcf9be9c4",
   "metadata": {},
   "outputs": [],
   "source": [
    "def get_geo_info_from_tiff(path_to_file):\n",
    "    # TODO - написати документацію (потрібно описати, яку інформацію можна отримати використовуючи метод - get_transform)\n",
    "    \n",
    "    with rasterio.open(path_to_file, 'r') as raster:\n",
    "        xmin, pixel_width, r_rotation, ymax, c_rotation, pixel_height = raster.get_transform() \n",
    "        \n",
    "    return raster.crs.to_string().lower(), [raster.height,  raster.width],  [pixel_width, r_rotation, xmin, c_rotation, pixel_height, ymax, 0, 0, 1]\n",
    "    "
   ]
  },
  {
   "cell_type": "code",
   "execution_count": 23,
   "id": "58429f92-2837-406c-942b-0bf2660840a0",
   "metadata": {},
   "outputs": [],
   "source": [
    "def create_eo3_dataset(path_product_definition, path_to_tiff, path_save_dataset, datetime=None, file_format=\"GeoTIFF\"):\n",
    "    \"\"\"\n",
    "    Приклад функції для створення метаданих датасету у форматі eo3\n",
    "    \"\"\"\n",
    "    path_to_tiff = Path(path_to_tiff)\n",
    "    path_save_dataset = Path(path_save_dataset)\n",
    "    path_product_definition = Path(path_product_definition)\n",
    "    \n",
    "    if not datetime:\n",
    "        datetime = pd.Timestamp('1996-12-01T00:00:00.000000000').strftime(\"%Y-%m-%d %H:%M:%S.0000000Z\")\n",
    "\n",
    "    product_info = read_yaml(path_product_definition)\n",
    "    product_name, var_name = product_info['name'], product_info['measurements'][0]['name']\n",
    "    \n",
    "    crs, shape, gt = get_geo_info_from_tiff(path_to_tiff)\n",
    "    \n",
    "    eo3_doc = {\n",
    "        \n",
    "        \"id\": str(uuid.uuid4()),\n",
    "        \"$schema\": 'https://schemas.opendatacube.org/dataset',\n",
    "        \"product\": {\"name\": product_info['name']},\n",
    "        \"crs\": crs,\n",
    "        \"grids\":{\"default\":{ \"shape\": shape, \"transform\": gt }},\n",
    "        \"measurements\": {var_name: {'path': str(path_to_tiff)}},\n",
    "        \"properties\": {\"datetime\": datetime, \"odc:file_format\": file_format},\n",
    "        \"lineage\": {}\n",
    "            }\n",
    "    \n",
    "    metadata_file = path_save_dataset / \"{}_{}.yaml\".format(product_info['name'], path_to_tiff.stem)\n",
    "    \n",
    "    with open(str(metadata_file), 'a') as destination_file_opened:\n",
    "        yaml.dump(eo3_doc, destination_file_opened, explicit_start=True, sort_keys=False, default_flow_style=None)\n",
    "        \n",
    "    return metadata_file"
   ]
  },
  {
   "cell_type": "code",
   "execution_count": 31,
   "id": "9a868137-cf96-4aa5-a23f-ed9a6c32599d",
   "metadata": {},
   "outputs": [
    {
     "data": {
      "text/plain": [
       "WindowsPath('D:/odc/GTOPO_30AS/metadata/GTOPO_30AS_gt30w180n90.yaml')"
      ]
     },
     "execution_count": 31,
     "metadata": {},
     "output_type": "execute_result"
    }
   ],
   "source": [
    "create_eo3_dataset(path_product_definition, path_to_tiff, path_save_dataset)"
   ]
  },
  {
   "cell_type": "code",
   "execution_count": null,
   "id": "ca32fccb-0cbd-480a-ae68-04c544926e48",
   "metadata": {},
   "outputs": [],
   "source": [
    "#TODO Використовуючи наведений код необхідно створити файл із метаданими для всіх 33 тайлів. \n",
    "\n",
    "# Рекомендовано виконати це завдання, написавши додаткові функції або оптимізувавши вже існуючий код"
   ]
  },
  {
   "cell_type": "code",
   "execution_count": null,
   "id": "31adfe4a-c905-4319-8f71-4138d202d710",
   "metadata": {},
   "outputs": [],
   "source": []
  },
  {
   "cell_type": "code",
   "execution_count": null,
   "id": "a0e54904-806c-46e9-bad8-3dcc6fe6d1a6",
   "metadata": {},
   "outputs": [],
   "source": []
  }
 ],
 "metadata": {
  "kernelspec": {
   "display_name": "Python 3 (ipykernel)",
   "language": "python",
   "name": "python3"
  },
  "language_info": {
   "codemirror_mode": {
    "name": "ipython",
    "version": 3
   },
   "file_extension": ".py",
   "mimetype": "text/x-python",
   "name": "python",
   "nbconvert_exporter": "python",
   "pygments_lexer": "ipython3",
   "version": "3.12.1"
  }
 },
 "nbformat": 4,
 "nbformat_minor": 5
}
