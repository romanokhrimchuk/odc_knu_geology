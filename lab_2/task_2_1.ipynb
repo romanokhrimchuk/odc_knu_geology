{
 "cells": [
  {
   "cell_type": "code",
   "execution_count": 1,
   "id": "6244d76b-c348-4a3e-b7d7-23848ead1558",
   "metadata": {},
   "outputs": [],
   "source": [
    "import yaml\n",
    "from pathlib import Path"
   ]
  },
  {
   "cell_type": "code",
   "execution_count": 2,
   "id": "beead8ff-91d7-4903-abd5-95a21ca75544",
   "metadata": {},
   "outputs": [],
   "source": [
    "product_name = 'GTOPO_30AS'\n",
    "description = \"GTOPO30 is a global digital elevation model (DEM) with a horizontal grid spacing of 30 arc seconds (approximately 1 kilometer)\"\n",
    "path_save_product = './odc/GTOPO_30AS/metadata/product_definition' "
   ]
  },
  {
   "cell_type": "code",
   "execution_count": 3,
   "id": "1341fabe-f7c7-4315-ab05-f8a7b660e6f8",
   "metadata": {},
   "outputs": [],
   "source": [
    "var_name = 'DEM'\n",
    "measurements = [{\"name\": var_name,\n",
    "                 \"aliases\": [var_name.lower()],\n",
    "                 \"units\": \"mamsl (meters above mean sea level)\",\n",
    "                 \"dtype\": 'int16',\n",
    "                 \"nodata\": -9999}]"
   ]
  },
  {
   "cell_type": "code",
   "execution_count": 4,
   "id": "e5cd8719-a185-4dc2-9d4d-b9d57941d165",
   "metadata": {},
   "outputs": [],
   "source": [
    "def create_eo3_product(product_name, description, measurements, path_save_product):\n",
    "    #TODO - написати документацію до функції\n",
    "    \n",
    "    eo3_prod_dict = {\n",
    "        \n",
    "        \"name\":product_name,\n",
    "        \"description\": description,\n",
    "        \"metadata_type\": \"eo3\",\n",
    "        \n",
    "        \"metadata\":{\n",
    "            \"product\":{\n",
    "                \"name\": product_name}\n",
    "                },\n",
    "        \n",
    "        \"measurements\": measurements\n",
    "    \n",
    "        }\n",
    "\n",
    "    print(eo3_prod_dict)\n",
    "    \n",
    "    path_product_definition =  str(Path(path_save_product)/f\"{product_name}_product_definition.yaml\")\n",
    "    \n",
    "    with open(path_product_definition, \"w\") as dest:\n",
    "        yaml.dump(eo3_prod_dict, dest, explicit_start=True, sort_keys=False) #TODO Потрібно описати, параметри функції explicit_start та sort_keys, яку вони відіграють роль в даному випадку;\n",
    "    \n",
    "    return path_product_definition\n"
   ]
  },
  {
   "cell_type": "code",
   "execution_count": 5,
   "id": "849e8f23-8d16-4b98-bd65-542d469ddd79",
   "metadata": {},
   "outputs": [
    {
     "name": "stdout",
     "output_type": "stream",
     "text": [
      "{'name': 'GTOPO_30AS', 'description': 'GTOPO30 is a global digital elevation model (DEM) with a horizontal grid spacing of 30 arc seconds (approximately 1 kilometer)', 'metadata_type': 'eo3', 'metadata': {'product': {'name': 'GTOPO_30AS'}}, 'measurements': [{'name': 'DEM', 'aliases': ['dem'], 'units': 'mamsl (meters above mean sea level)', 'dtype': 'int16', 'nodata': -9999}]}\n"
     ]
    },
    {
     "data": {
      "text/plain": [
       "'D:\\\\odc\\\\GTOPO_30AS\\\\metadata\\\\product_definition\\\\GTOPO_30AS_product_definition.yaml'"
      ]
     },
     "execution_count": 5,
     "metadata": {},
     "output_type": "execute_result"
    }
   ],
   "source": [
    "create_eo3_product(product_name, description, measurements, path_save_product)"
   ]
  },
  {
   "cell_type": "code",
   "execution_count": 6,
   "id": "086c85b8-44fe-4ed6-974e-2b437085f6d4",
   "metadata": {},
   "outputs": [],
   "source": [
    "#TODO Потрібно написати функцію, яка зчитає словник із створеного файлу із метаданими продукту. Також у комірках нижче, навести приклад її роботи\n",
    "\n",
    "def read_yaml(path_yaml):\n",
    "    '''\n",
    "    ARGS: \n",
    "        - path_yaml: (str) \n",
    "    RETURNS: \n",
    "        - product_info: (dict)\n",
    "    '''\n",
    "\n",
    "    #TODO - тут потрібно написати код\n",
    "    \n",
    "    return product_info\n"
   ]
  },
  {
   "cell_type": "code",
   "execution_count": null,
   "id": "551d4bc5-5d60-4eec-8b67-7339de3bfc80",
   "metadata": {},
   "outputs": [],
   "source": [
    "product_info = read_yaml(path_yaml)"
   ]
  },
  {
   "cell_type": "code",
   "execution_count": null,
   "id": "b12bac11-1932-4488-ae10-704c23c52ba3",
   "metadata": {},
   "outputs": [],
   "source": [
    "print(product_info)"
   ]
  },
  {
   "cell_type": "code",
   "execution_count": null,
   "id": "187620d5-9744-4fdc-83a7-ff37f2f97309",
   "metadata": {},
   "outputs": [],
   "source": []
  }
 ],
 "metadata": {
  "kernelspec": {
   "display_name": "Python 3 (ipykernel)",
   "language": "python",
   "name": "python3"
  },
  "language_info": {
   "codemirror_mode": {
    "name": "ipython",
    "version": 3
   },
   "file_extension": ".py",
   "mimetype": "text/x-python",
   "name": "python",
   "nbconvert_exporter": "python",
   "pygments_lexer": "ipython3",
   "version": "3.12.1"
  }
 },
 "nbformat": 4,
 "nbformat_minor": 5
}
